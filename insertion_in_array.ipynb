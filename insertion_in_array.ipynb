{
  "nbformat": 4,
  "nbformat_minor": 0,
  "metadata": {
    "colab": {
      "provenance": []
    },
    "kernelspec": {
      "name": "python3",
      "display_name": "Python 3"
    },
    "language_info": {
      "name": "python"
    }
  },
  "cells": [
    {
      "cell_type": "code",
      "execution_count": 12,
      "metadata": {
        "colab": {
          "base_uri": "https://localhost:8080/"
        },
        "id": "badhY6Kc2N8p",
        "outputId": "afbaa341-183c-4b1e-e3ca-b0453c47e373"
      },
      "outputs": [
        {
          "output_type": "stream",
          "name": "stdout",
          "text": [
            "Before insertion: \n",
            "[12, 16, 20, 40, 50, 70, 26]\n",
            "After insertion:\n",
            "[12, 16, 20, 40, 50, 70, 26, 26]\n"
          ]
        }
      ],
      "source": [
        "def insert(arr, element):\n",
        "  arr.append(element)\n",
        "if __name__ == ' __main__':\n",
        "  arr = [1,2,3,4,5]\n",
        "  key = 6\n",
        "print(\"Before insertion: \")\n",
        "print(arr)\n",
        "insert(arr,key)\n",
        "print(\"After insertion:\")\n",
        "print(arr)"
      ]
    },
    {
      "cell_type": "code",
      "source": [
        "#Program to Insert an element at a specific position in an Array\n",
        "def insertElement(arr, n, x, pos):\n",
        "\n",
        "\tfor i in range(n-1, pos-1, -1):\n",
        "\t\tarr[i + 1] = arr[i]\n",
        "\n",
        "\tarr[pos] = x\n",
        "\n",
        "if __name__ == '__main__':\n",
        "\tarr = [2, 4, 1, 8, 5, -1, -1, -1, -1, -1, -1, -1, -1, -1, -1, -1]\n",
        "\tn = 5\n",
        "\n",
        "\tprint(\"Before insertion : \")\n",
        "\tfor i in range(0, n):\n",
        "\t\tprint(arr[i], end=' ')\n",
        "\n",
        "\tprint(\"\\n\")\n",
        "\n",
        "\tx = 10\n",
        "\tpos = 2\n",
        "\n",
        "\tinsertElement(arr, n, x, pos)\n",
        "\tn += 1\n",
        "\n",
        "\tprint(\"After insertion : \")\n",
        "\tfor i in range(0, n):\n",
        "\t\tprint(arr[i], end=' ')"
      ],
      "metadata": {
        "colab": {
          "base_uri": "https://localhost:8080/"
        },
        "id": "ADIZCI7sA4mF",
        "outputId": "fd24c050-a793-405e-cef4-52f1122b75b8"
      },
      "execution_count": 19,
      "outputs": [
        {
          "output_type": "stream",
          "name": "stdout",
          "text": [
            "Before insertion : \n",
            "2 4 1 8 5 \n",
            "\n",
            "After insertion : \n",
            "2 4 10 1 8 5 "
          ]
        }
      ]
    },
    {
      "cell_type": "code",
      "source": [
        "# Inserting Elements in a Sorted Array\n",
        "def insertSorted(arr, n, key, capacity):\n",
        "\n",
        "\tif (n >= capacity):\n",
        "\t\treturn n\n",
        "\n",
        "\ti = n - 1\n",
        "\twhile i >= 0 and arr[i] > key:\n",
        "\t\tarr[i + 1] = arr[i]\n",
        "\t\ti -= 1\n",
        "\n",
        "\tarr[i + 1] = key\n",
        "\n",
        "\treturn (n + 1)\n",
        "if __name__ == \"__main__\":\n",
        "\tarr = [12, 16, 20, 40, 50, 70]\n",
        "\n",
        "\tfor i in range(20):\n",
        "\t\tarr.append(0)\n",
        "\n",
        "\tcapacity = len(arr)\n",
        "\tn = 6\n",
        "\tkey = 26\n",
        "\n",
        "\tprint(\"Before Insertion: \", end=\" \")\n",
        "\tfor i in range(n):\n",
        "\t\tprint(arr[i], end=\" \")\n",
        "\tn = insertSorted(arr, n, key, capacity)\n",
        "\n",
        "\tprint(\"\\nAfter Insertion: \", end=\"\")\n",
        "\tfor i in range(n):\n",
        "\t\tprint(arr[i], end=\" \")\n"
      ],
      "metadata": {
        "colab": {
          "base_uri": "https://localhost:8080/"
        },
        "id": "21nzqykqCu4m",
        "outputId": "67ac64c0-1b92-4f66-c7c4-246a6d288b09"
      },
      "execution_count": 20,
      "outputs": [
        {
          "output_type": "stream",
          "name": "stdout",
          "text": [
            "Before Insertion:  12 16 20 40 50 70 \n",
            "After Insertion: 12 16 20 26 40 50 70 "
          ]
        }
      ]
    },
    {
      "cell_type": "code",
      "source": [],
      "metadata": {
        "id": "lB9nH6VHC_r0"
      },
      "execution_count": null,
      "outputs": []
    }
  ]
}