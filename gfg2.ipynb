{
  "cells": [
    {
      "cell_type": "markdown",
      "source": [
        "Given an array of N strings, find the longest common prefix among all strings present in the array.\n",
        "\n",
        "\n",
        "Example 1:\n",
        "\n",
        "Input:\n",
        "N = 4\n",
        "arr[] = {geeksforgeeks, geeks, geek,\n",
        "         geezer}\n",
        "Output: gee\n",
        "Explanation: \"gee\" is the longest common\n",
        "prefix in all the given strings.\n",
        "Example 2:\n",
        "\n",
        "Input:\n",
        "N = 2\n",
        "arr[] = {hello, world}\n",
        "Output: -1\n",
        "Explanation: There's no common prefix\n",
        "in the given strings.\n",
        "\n",
        "Your Task:\n",
        "You don't need to read input or print anything. Your task is to complete the function longestCommonPrefix() which takes the string array arr[] and its size N as inputs and returns the longest common prefix common in all the strings in the array. If there's no prefix common in all the strings, return \"-1\".\n",
        "\n",
        "\n",
        "Expected Time Complexity: O(N*min(|arri|)).\n",
        "Expected Auxiliary Space: O(min(|arri|)) for result.\n",
        "\n",
        "\n",
        "Constraints:\n",
        "1 ≤ N ≤ 103\n",
        "1 ≤ |arri| ≤ 103"
      ],
      "metadata": {
        "id": "rWDQmyrf7gpj"
      }
    },
    {
      "cell_type": "code",
      "source": [
        "class Solution:\n",
        "    def longestCommonPrefix(self, arr, n):\n",
        "        # code here\n",
        "        check = arr[0]\n",
        "        for f in arr:\n",
        "            while not  f.startswith(check):\n",
        "                check = check[:-1]\n",
        "        return check if check else -1"
      ],
      "metadata": {
        "id": "gMgG1n8E7tdN"
      },
      "execution_count": 4,
      "outputs": []
    }
  ],
  "metadata": {
    "colab": {
      "provenance": []
    },
    "kernelspec": {
      "display_name": "Python 3",
      "name": "python3"
    },
    "language_info": {
      "name": "python"
    }
  },
  "nbformat": 4,
  "nbformat_minor": 0
}