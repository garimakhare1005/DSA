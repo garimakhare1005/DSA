{
  "cells": [
    {
      "cell_type": "markdown",
      "source": [
        "Given an array of size N and you have to tell whether the array is perfect or not. An array is said to be perfect if its reverse array matches the original array. If the array is perfect then return True else return False.\n",
        "\n",
        "Example 1:\n",
        "\n",
        "Input : Arr[] = {1, 2, 3, 2, 1}\n",
        "Output : PERFECT\n",
        "Explanation:\n",
        "Here we can see we have [1, 2, 3, 2, 1]\n",
        "if we reverse it we can find [1, 2, 3, 2, 1]\n",
        "which is the same as before.\n",
        "So, the answer is PERFECT.\n",
        "\n",
        "Example 2:\n",
        "\n",
        "Input : Arr[] = {1, 2, 3, 4, 5}\n",
        "Output : NOT PERFECT\n",
        "\n",
        "User Task:\n",
        "The task is to complete the function IsPerfect(), which takes an array (a), size of the array (n), and returns the boolean value true if it is Perfect else false. The driver will print itself \"PERFECT\" or \"NOT PERFECT\" accordingly.\n",
        "\n",
        "Expected Time Complexity: O(N).\n",
        "Expected Auxiliary Space: O(1).\n",
        "\n",
        "Constraints:\n",
        "1 ≤ N ≤ 2 * 105\n",
        "1 ≤ ai ≤ 103"
      ],
      "metadata": {
        "id": "M6z7foRfYuds"
      }
    },
    {
      "cell_type": "code",
      "source": [
        "class Solution:\n",
        "    def IsPerfect(self,arr,n):\n",
        "\n",
        "        if arr==arr[::-1]:\n",
        "            return True\n",
        "        else:\n",
        "            return False"
      ],
      "metadata": {
        "id": "XiC94V_oPuAX"
      },
      "execution_count": 4,
      "outputs": []
    }
  ],
  "metadata": {
    "colab": {
      "provenance": []
    },
    "kernelspec": {
      "display_name": "Python 3",
      "name": "python3"
    },
    "language_info": {
      "name": "python"
    }
  },
  "nbformat": 4,
  "nbformat_minor": 0
}