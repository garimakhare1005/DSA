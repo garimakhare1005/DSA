{
  "cells": [
    {
      "cell_type": "markdown",
      "source": [
        "Given an unsorted array Arr[] of N integers and a Key which is present in this array. You need to write a program to find the start index( index where the element is first found from left in the array ) and end index( index where the element is first found from right in the array ).If the key does not exist in the array then return -1 for both start and end index in this case.\n",
        "\n",
        "Example 1:\n",
        "\n",
        "Input:\n",
        "N = 6\n",
        "arr[] = { 1, 2, 3, 4, 5, 5 }\n",
        "Key = 5\n",
        "Output:  4 5\n",
        "Explanation:\n",
        "5 appears first time at index 4 and\n",
        "appears last time at index 5.\n",
        "(0 based indexing)\n",
        "\n",
        "\n",
        "Example 2:\n",
        "\n",
        "Input:\n",
        "N=6\n",
        "arr[] = { 6, 5, 4, 3, 1, 2 }\n",
        "Key = 4\n",
        "Output:  2 2\n",
        "\n",
        "Your Task:\n",
        "Since, this is a function problem. You don't need to take any input, as it is already accomplished by the driver code. You just need to complete the function findIndex() that takes array a, integer N and integer key as parameters and returns an array of length 2 in which at first index contains the value of start index and at the second index contains the value of end index. If the key does not exist in the array then return -1 for both start and end index in this case.\n",
        "\n",
        "\n",
        "Expected Time Complexity: O(N)\n",
        "Expected Auxiliary Space: O(1).\n",
        "\n",
        "Constraints:\n",
        "1 ≤ N ≤ 106"
      ],
      "metadata": {
        "id": "M6z7foRfYuds"
      }
    },
    {
      "cell_type": "code",
      "source": [
        "class Solution:\n",
        "    def findIndex(self, a, N, key ):\n",
        "        if not key in a:\n",
        "            return -1, -1\n",
        "        first_index = a.index(key)\n",
        "        last_index = N - (a[::-1].index(key)) - 1\n",
        "        return first_index, last_index"
      ],
      "metadata": {
        "id": "XiC94V_oPuAX"
      },
      "execution_count": 5,
      "outputs": []
    }
  ],
  "metadata": {
    "colab": {
      "provenance": []
    },
    "kernelspec": {
      "display_name": "Python 3",
      "name": "python3"
    },
    "language_info": {
      "name": "python"
    }
  },
  "nbformat": 4,
  "nbformat_minor": 0
}