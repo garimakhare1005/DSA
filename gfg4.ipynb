{
  "cells": [
    {
      "cell_type": "markdown",
      "source": [
        "For the first time ever: GATE 2024 introduces DS & AI in its renowned exam. Take its first ever All India Mock Test\n",
        "\n",
        "banner\n",
        "Given a list of words followed by two words, the task to find the minimum distance between the given two words in the list of words\n",
        "\n",
        "\n",
        "Example 1:\n",
        "\n",
        "Input:\n",
        "S = { \"the\", \"quick\", \"brown\", \"fox\",\n",
        "     \"quick\"}\n",
        "word1 = \"the\"\n",
        "word2 = \"fox\"\n",
        "Output: 3\n",
        "Explanation: Minimum distance between the\n",
        "words \"the\" and \"fox\" is 3\n",
        "Example 2:\n",
        "\n",
        "Input:\n",
        "S = {\"geeks\", \"for\", \"geeks\", \"contribute\",\n",
        "     \"practice\"}\n",
        "word1 = \"geeks\"\n",
        "word2 = \"practice\"\n",
        "Output: 2\n",
        "Explanation: Minimum distance between the\n",
        "words \"geeks\" and \"practice\" is 2\n",
        "\n",
        "Your Task:  \n",
        "You don't need to read input or print anything. Your task is to complete the function\n",
        "\n",
        "shortestDistance() which list of words, two strings as inputs and returns the minimum distance between two words\n",
        "\n",
        "Expected Time Complexity: O(|S|)\n",
        "Expected Auxiliary Space: O(1)\n",
        "\n",
        "Constraints:\n",
        "Sum of lengths of words ≤ 105\n",
        "\n",
        "Note: word1 and word2 are both in the list."
      ],
      "metadata": {
        "id": "rWDQmyrf7gpj"
      }
    },
    {
      "cell_type": "code",
      "source": [
        "class Solution:\n",
        "    def shortestDistance(self, s, word1, word2):\n",
        "        # code here\n",
        "        if word1==word2:\n",
        "            return 0\n",
        "        a=[]\n",
        "        b=[]\n",
        "\n",
        "        for i in range(len(s)):\n",
        "             if s[i]==word1:\n",
        "                 a.append(i)\n",
        "\n",
        "             elif s[i]==word2:\n",
        "                 b.append(i)\n",
        "\n",
        "        res=len(s)\n",
        "        for i in a:\n",
        "            for j in b:\n",
        "                res=min(res,abs(i-j))\n",
        "        return res"
      ],
      "metadata": {
        "id": "_XekQAr0-EmK"
      },
      "execution_count": 6,
      "outputs": []
    }
  ],
  "metadata": {
    "colab": {
      "provenance": []
    },
    "kernelspec": {
      "display_name": "Python 3",
      "name": "python3"
    },
    "language_info": {
      "name": "python"
    }
  },
  "nbformat": 4,
  "nbformat_minor": 0
}