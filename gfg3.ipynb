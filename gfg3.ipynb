{
  "cells": [
    {
      "cell_type": "markdown",
      "source": [
        "Given two strings A and B. Find minimum number of times A has to be repeated such that B is a Substring of it. If B can never be a substring then return -1.\n",
        "\n",
        "\n",
        "\n",
        "Example 1:\n",
        "\n",
        "Input:\n",
        "A = \"abcd\"\n",
        "B = \"cdabcdab\"\n",
        "Output:\n",
        "3\n",
        "Explanation:\n",
        "Repeating A three times (“abcdabcdabcd”),\n",
        "B is a substring of it. B is not a substring\n",
        "of A when it is repeated less than 3 times.\n",
        "Example 2:\n",
        "Input:\n",
        "A = \"ab\"\n",
        "B = \"cab\"\n",
        "Output :\n",
        "-1\n",
        "Explanation:\n",
        "No matter how many times we repeat A, we can't\n",
        "get a string such that B is a substring of it.\n",
        "\n",
        "Your Task:  \n",
        "You don't need to read input or print anything. Your task is to complete the function minRepeats() which takes 2 strings A, and B respectively and returns the minimum number of times A has to be repeated such that B is a substring of it. Return -1 if it's not possible.\n",
        "\n",
        "\n",
        "Expected Time Complexity: O(|A| * |B|)\n",
        "Expected Auxiliary Space: O(|B|)\n",
        "\n",
        "\n",
        "Constraints:\n",
        "1 ≤ |A|, |B| ≤ 103\n",
        "String A and B consists of lower case alphabets"
      ],
      "metadata": {
        "id": "rWDQmyrf7gpj"
      }
    },
    {
      "cell_type": "code",
      "source": [
        "\n",
        "class Solution:\n",
        "    def minRepeats(self, A, B):\n",
        "        C = A\n",
        "        count = 1\n",
        "        if A==B:\n",
        "            return 1\n",
        "        while len(C) < len(B):\n",
        "            C = C + A\n",
        "            count += 1\n",
        "        if B in C:\n",
        "            return count\n",
        "        if B in C+A:\n",
        "            return count+1\n",
        "        return -1"
      ],
      "metadata": {
        "id": "_XekQAr0-EmK"
      },
      "execution_count": 5,
      "outputs": []
    }
  ],
  "metadata": {
    "colab": {
      "provenance": []
    },
    "kernelspec": {
      "display_name": "Python 3",
      "name": "python3"
    },
    "language_info": {
      "name": "python"
    }
  },
  "nbformat": 4,
  "nbformat_minor": 0
}