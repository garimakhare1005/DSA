{
  "cells": [
    {
      "cell_type": "markdown",
      "source": [
        "**Find minimum and maximum element in an array**\n",
        "Given an array A of size N of integers. Your task is to find the minimum and maximum elements in the array.\n",
        "\n",
        "\n",
        "\n",
        "Example 1:\n",
        "\n",
        "Input:\n",
        "N = 6\n",
        "A[] = {3, 2, 1, 56, 10000, 167}\n",
        "Output: 1 10000\n",
        "Explanation: minimum and maximum elements of array are 1 and 10000.\n",
        "\n",
        "\n",
        "Example 2:\n",
        "\n",
        "Input:\n",
        "N = 5\n",
        "A[]  = {1, 345, 234, 21, 56789}\n",
        "Output: 1 56789\n",
        "Explanation: minimum and maximum element of array are 1 and 56789.\n",
        "\n",
        "\n",
        "Your Task:  \n",
        "You don't need to read input or print anything. Your task is to complete the function getMinMax() which takes the array A[] and its size N as inputs and returns the minimum and maximum element of the array."
      ],
      "metadata": {
        "id": "RQ-NE9JIGjlN"
      }
    },
    {
      "cell_type": "code",
      "source": [
        "def minMax(list):\n",
        "  min1 = list[0]\n",
        "  max1 = list[0]\n",
        "  for i in list:\n",
        "    min1 = min(min1,i)\n",
        "    max1 = max(max1,i)\n",
        "    return min1,max1\n"
      ],
      "metadata": {
        "id": "UUZlvbxXGn_U"
      },
      "execution_count": 23,
      "outputs": []
    }
  ],
  "metadata": {
    "colab": {
      "provenance": []
    },
    "kernelspec": {
      "display_name": "Python 3",
      "name": "python3"
    },
    "language_info": {
      "name": "python"
    }
  },
  "nbformat": 4,
  "nbformat_minor": 0
}