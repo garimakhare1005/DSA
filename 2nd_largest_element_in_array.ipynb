{
  "cells": [
    {
      "cell_type": "markdown",
      "source": [
        "Given an array of integers, our task is to write a program that efficiently finds the second-largest element present in the array.\n",
        "\n",
        "Input: arr[] = {12, 35, 1, 10, 34, 1}\n",
        "\n",
        "Output: The second largest element is 34.\n",
        "\n",
        "Explanation: The largest element of the array is 35 and the second largest element is 34\n",
        "\n",
        "Input: arr[] = {10, 5, 10}\n",
        "\n",
        "Output: The second largest element is 5.\n",
        "\n",
        "Explanation: The largest element of the array is 10 and the second largest element is 5"
      ],
      "metadata": {
        "id": "44Qgj7bsB96e"
      }
    },
    {
      "cell_type": "code",
      "source": [
        "import sys\n",
        "def p2largest(arr, arr_size):\n",
        "  if (arr_size < 2):\n",
        "    print(\"invalid input\")\n",
        "    return\n",
        "  second = first = -sys.maxsize\n",
        "\n",
        "  for i in range(0, arr_size):\n",
        "    if (arr[i] > first):\n",
        "      second = first\n",
        "      first = arr[i]\n",
        "    elif (arr[i] > second):\n",
        "      second = arr [i]\n",
        "  print(\"The largest element is: \",first,\" and the second largest element is: \", second)\n",
        "\n",
        "arr = [10,5,15,22,44,1,67]\n",
        "arr_size = len(arr)\n",
        "p2largest(arr, arr_size)\n"
      ],
      "metadata": {
        "id": "MK96lurn4QIW",
        "colab": {
          "base_uri": "https://localhost:8080/"
        },
        "outputId": "38232d1b-7cb8-499e-9b2e-fc99c31d0fd2"
      },
      "execution_count": 11,
      "outputs": [
        {
          "output_type": "stream",
          "name": "stdout",
          "text": [
            "The largest element is:  67  and the second largest element is:  44\n"
          ]
        }
      ]
    }
  ],
  "metadata": {
    "colab": {
      "provenance": []
    },
    "kernelspec": {
      "display_name": "Python 3",
      "name": "python3"
    },
    "language_info": {
      "name": "python"
    }
  },
  "nbformat": 4,
  "nbformat_minor": 0
}