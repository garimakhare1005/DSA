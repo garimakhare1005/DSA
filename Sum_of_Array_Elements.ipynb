{
  "cells": [
    {
      "cell_type": "markdown",
      "source": [
        "Given an integer array arr of size n, you need to sum the elements of arr.\n",
        "\n",
        "Example 1:\n",
        "\n",
        "Input:\n",
        "n = 3\n",
        "arr[] = {3 2 1}\n",
        "Output: 6\n",
        "Example 2:\n",
        "\n",
        "Input:\n",
        "n = 4\n",
        "arr[] = {1 2 3 4}\n",
        "Output: 10\n",
        "Your Task:\n",
        "You need to complete the function sumElement() that takes arr and n and returns the sum. The printing is done by the driver code.\n",
        "\n",
        "Expected Time Complexity: O(n).\n",
        "Expected Auxiliary Space: O(1).\n",
        "\n",
        "Constraints:\n",
        "1 <= n <= 103\n",
        "1 <= arri <= 104"
      ],
      "metadata": {
        "id": "M6z7foRfYuds"
      }
    },
    {
      "cell_type": "code",
      "source": [
        "def sumElement(arr,n):\n",
        "    sum = 0\n",
        "    for i in arr:\n",
        "        sum = sum + i\n",
        "    return sum\n"
      ],
      "metadata": {
        "id": "XiC94V_oPuAX"
      },
      "execution_count": 3,
      "outputs": []
    }
  ],
  "metadata": {
    "colab": {
      "provenance": []
    },
    "kernelspec": {
      "display_name": "Python 3",
      "name": "python3"
    },
    "language_info": {
      "name": "python"
    }
  },
  "nbformat": 4,
  "nbformat_minor": 0
}