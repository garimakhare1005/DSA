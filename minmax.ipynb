{
  "nbformat": 4,
  "nbformat_minor": 0,
  "metadata": {
    "colab": {
      "provenance": []
    },
    "kernelspec": {
      "name": "python3",
      "display_name": "Python 3"
    },
    "language_info": {
      "name": "python"
    }
  },
  "cells": [
    {
      "cell_type": "markdown",
      "source": [
        "Array in Python Practice : Introduction Geeksforgeeks"
      ],
      "metadata": {
        "id": "nfBUmSHVmvuB"
      }
    },
    {
      "cell_type": "markdown",
      "source": [
        "Maximum and minimum of an array using minimum number of comparisons"
      ],
      "metadata": {
        "id": "lLhPiI0lwplY"
      }
    },
    {
      "cell_type": "code",
      "source": [
        "def getMinMax(arr):\n",
        "  arr.sort()\n",
        "  minmax = {\"min\" : arr[0], \"max\" : arr[-1]}\n",
        "  return minmax\n",
        "arr = [1000,12,1,33,56,67]\n",
        "minmax = getMinMax(arr)\n",
        "print(\"Mininum Value is:\",minmax[\"min\"])\n",
        "print(\"Maximum Value is:\",minmax[\"max\"])\n"
      ],
      "metadata": {
        "id": "WMFWzHXowqjj",
        "outputId": "d1f3cddc-1f26-42dd-d4a1-9c80364fef1e",
        "colab": {
          "base_uri": "https://localhost:8080/"
        }
      },
      "execution_count": 21,
      "outputs": [
        {
          "output_type": "stream",
          "name": "stdout",
          "text": [
            "Mininum Value is: 1\n",
            "Maximum Value is: 1000\n"
          ]
        }
      ]
    },
    {
      "cell_type": "markdown",
      "source": [
        "The time complexity of this approach is O(n log n), where n is the number of elements in the array, as we are using a sorting algorithm. The space complexity is O(1), as we are not using any extra space."
      ],
      "metadata": {
        "id": "SYXv1QV8yWiI"
      }
    }
  ]
}