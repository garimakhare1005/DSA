{
  "nbformat": 4,
  "nbformat_minor": 0,
  "metadata": {
    "colab": {
      "provenance": []
    },
    "kernelspec": {
      "name": "python3",
      "display_name": "Python 3"
    },
    "language_info": {
      "name": "python"
    }
  },
  "cells": [
    {
      "cell_type": "markdown",
      "source": [
        "Array in Python Practice : Introduction Geeksforgeeks"
      ],
      "metadata": {
        "id": "nfBUmSHVmvuB"
      }
    },
    {
      "cell_type": "code",
      "source": [
        "#Declare an array\n",
        "arr = [1,2,3,4,5]\n",
        "arr = ['hi','this','is','garima!']\n",
        "arr = ['hi',12,'12']"
      ],
      "metadata": {
        "id": "38o9vtN1m3vb"
      },
      "execution_count": 2,
      "outputs": []
    },
    {
      "cell_type": "markdown",
      "source": [
        "reverse an array"
      ],
      "metadata": {
        "id": "S3Ng9BUjoXXM"
      }
    },
    {
      "cell_type": "code",
      "source": [
        "#1) Initialize start and end indexes as start = 0, end = n-1\n",
        "#2) In a loop, swap arr[start] with arr[end] and change start and end as follows :\n",
        "# start = start +1, end = end – 1\n",
        "\n",
        "#Function to reverse A[] from start to end\n",
        "def reverseList(A,start,end):\n",
        "  while start < end:\n",
        "    A[start],A[end] = A[end],A[start]\n",
        "    start += 1\n",
        "    end -= 1\n",
        "A=[1,2,13,4,5,6]\n",
        "print(A)\n",
        "reverseList(A,0,5)\n",
        "print(\"Reversed list is\")\n",
        "print(A)\n",
        "# Time Complexity: O(n)\n",
        "# Auxiliary Space: O(1)"
      ],
      "metadata": {
        "colab": {
          "base_uri": "https://localhost:8080/"
        },
        "id": "xvHZSjdQoZiM",
        "outputId": "ac4555d4-c157-4419-b9e6-383b6b10d59f"
      },
      "execution_count": 13,
      "outputs": [
        {
          "output_type": "stream",
          "name": "stdout",
          "text": [
            "[1, 2, 13, 4, 5, 6]\n",
            "Reversed list is\n",
            "[6, 5, 4, 13, 2, 1]\n"
          ]
        }
      ]
    },
    {
      "cell_type": "code",
      "source": [
        "# Recursive\n",
        "def reverseList(A,start,end):\n",
        "  if start >= end:\n",
        "    return\n",
        "  A[start], A[end] = A[end], A[start]\n",
        "  reverseList(A, start+1, end-1)\n",
        "A = [1,2,3,4,5,6]\n",
        "print(A)\n",
        "reverseList(A,0,5)\n",
        "print(\"Reversed List is: \")\n",
        "print(A)\n"
      ],
      "metadata": {
        "colab": {
          "base_uri": "https://localhost:8080/"
        },
        "id": "Omba_TRRrm37",
        "outputId": "811f6eb6-cd74-4016-f08a-79524edf0a01"
      },
      "execution_count": 19,
      "outputs": [
        {
          "output_type": "stream",
          "name": "stdout",
          "text": [
            "[1, 2, 3, 4, 5, 6]\n",
            "Reversed List is: \n",
            "[6, 5, 4, 3, 2, 1]\n"
          ]
        }
      ]
    }
  ]
}