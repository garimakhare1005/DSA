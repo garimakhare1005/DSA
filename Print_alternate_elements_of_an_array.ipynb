{
  "cells": [
    {
      "cell_type": "markdown",
      "source": [
        "You are given an array A of size N. You need to print elements of A in alternate order (starting from index 0).\n",
        "\n",
        "Example 1:\n",
        "\n",
        "Input:\n",
        "N = 4\n",
        "A[] = {1, 2, 3, 4}\n",
        "Output:\n",
        "1 3\n",
        "Example 2:\n",
        "\n",
        "Input:\n",
        "N = 5\n",
        "A[] = {1, 2, 3, 4, 5}\n",
        "Output:\n",
        "1 3 5\n",
        "Your Task:\n",
        "Since this is a function problem, you just need to complete the provided function print() which takes A and n as input parameters and print the resultant array in the function itself. You have to print the final number of array ending with a space as Printing of newline character is taken care in driver code itself.\n",
        "\n",
        "Constraints:\n",
        "1 <= N <= 105\n",
        "1 <= Ai <= 105\n",
        "\n",
        "Expected Time Complexity: O(n)\n",
        "Expected Auxiliary Space: O(1)"
      ],
      "metadata": {
        "id": "M6z7foRfYuds"
      }
    },
    {
      "cell_type": "code",
      "source": [
        "def printAl(arr,n):\n",
        "    for i in range(0,n,2):\n",
        "        print(arr[i],end=\" \")"
      ],
      "metadata": {
        "id": "XiC94V_oPuAX"
      },
      "execution_count": 2,
      "outputs": []
    }
  ],
  "metadata": {
    "colab": {
      "provenance": []
    },
    "kernelspec": {
      "display_name": "Python 3",
      "name": "python3"
    },
    "language_info": {
      "name": "python"
    }
  },
  "nbformat": 4,
  "nbformat_minor": 0
}