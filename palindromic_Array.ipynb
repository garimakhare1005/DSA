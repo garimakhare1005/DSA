{
  "cells": [
    {
      "cell_type": "markdown",
      "source": [
        "Given a Integer array A[] of n elements. Your task is to complete the function PalinArray. Which will return 1 if all the elements of the Array are palindrome otherwise it will return 0.\n",
        "\n",
        "Example 1:\n",
        "\n",
        "Input:\n",
        "5\n",
        "111 222 333 444 555\n",
        "\n",
        "Output:\n",
        "1\n",
        "\n",
        "Explanation:\n",
        "A[0] = 111 //which is a palindrome number.\n",
        "A[1] = 222 //which is a palindrome number.\n",
        "A[2] = 333 //which is a palindrome number.\n",
        "A[3] = 444 //which is a palindrome number.\n",
        "A[4] = 555 //which is a palindrome number.\n",
        "As all numbers are palindrome so This will return 1.\n",
        "Example 2:\n",
        "\n",
        "Input:\n",
        "3\n",
        "121 131 20\n",
        "\n",
        "Output:\n",
        "0\n",
        "\n",
        "Explanation:\n",
        "20 is not a palindrome hence the output is 0.\n",
        "\n",
        "Constraints:\n",
        "1 <=T<= 50\n",
        "1 <=n<= 20\n",
        "1 <=A[]<= 10000"
      ],
      "metadata": {
        "id": "M6z7foRfYuds"
      }
    },
    {
      "cell_type": "code",
      "source": [
        "def PalinArray(arr ,n):\n",
        "    # Code here\n",
        "    a=[]\n",
        "    for i in arr:\n",
        "        t=i\n",
        "        c=0\n",
        "        while(t>=1):\n",
        "            z=t%10\n",
        "            c=(c*10)+z\n",
        "            t=t//10\n",
        "        a.append(c)\n",
        "    for i in range(len(arr)):\n",
        "        if arr[i]!=a[i]:return 0\n",
        "\n",
        "    return 1\n",
        ""
      ],
      "metadata": {
        "id": "hcwNvLQ9OU5M"
      },
      "execution_count": 1,
      "outputs": []
    }
  ],
  "metadata": {
    "colab": {
      "provenance": []
    },
    "kernelspec": {
      "display_name": "Python 3",
      "name": "python3"
    },
    "language_info": {
      "name": "python"
    }
  },
  "nbformat": 4,
  "nbformat_minor": 0
}