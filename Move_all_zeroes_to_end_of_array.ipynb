{
  "cells": [
    {
      "cell_type": "markdown",
      "source": [
        "Given an array of random numbers, Push all the zero’s of a given array to the end of the array.\n",
        "\n",
        "For example, if the given arrays is {1, 9, 8, 4, 0, 0, 2, 7, 0, 6, 0}, it should be changed to {1, 9, 8, 4, 2, 7, 6, 0, 0, 0, 0}.\n",
        "\n",
        "The order of all other elements should be same. Expected time complexity is O(n) and extra space is O(1)."
      ],
      "metadata": {
        "id": "44Qgj7bsB96e"
      }
    },
    {
      "cell_type": "code",
      "source": [
        "import sys\n",
        "def move0toend(arr, arr_size):\n",
        "  j = 0\n",
        "  for i in range (arr_size):\n",
        "    if arr[i] != 0:\n",
        "      arr[i], arr[j] = arr[j], arr[i]\n",
        "    j += 1\n",
        "    return arr\n",
        "\n",
        "\n",
        "\n"
      ],
      "metadata": {
        "id": "MK96lurn4QIW"
      },
      "execution_count": 12,
      "outputs": []
    }
  ],
  "metadata": {
    "colab": {
      "provenance": []
    },
    "kernelspec": {
      "display_name": "Python 3",
      "name": "python3"
    },
    "language_info": {
      "name": "python"
    }
  },
  "nbformat": 4,
  "nbformat_minor": 0
}