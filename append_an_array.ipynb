{
  "cells": [
    {
      "cell_type": "markdown",
      "source": [
        "Write a Python program to append a new item to the end of the array.\n",
        "\n",
        "Sample Output:\n",
        "\n",
        "Original array: array('i', [1, 3, 5, 7, 9])\n",
        "\n",
        "Append 11 at the end of the array:\n",
        "\n",
        "New array: array('i', [1, 3, 5, 7, 9, 11])"
      ],
      "metadata": {
        "id": "M6z7foRfYuds"
      }
    },
    {
      "cell_type": "code",
      "source": [
        "my_array = [1,3,5,7,9]\n",
        "print(\"Original array:\",my_array)\n",
        "my_array.append(11)\n",
        "print(\"New array:\",my_array)"
      ],
      "metadata": {
        "colab": {
          "base_uri": "https://localhost:8080/"
        },
        "id": "XiC94V_oPuAX",
        "outputId": "68d111b0-4f38-43da-bcff-6c5ed6a6add1"
      },
      "execution_count": 18,
      "outputs": [
        {
          "output_type": "stream",
          "name": "stdout",
          "text": [
            "Original array: [1, 3, 5, 7, 9]\n",
            "New array: [1, 3, 5, 7, 9, 11]\n"
          ]
        }
      ]
    }
  ],
  "metadata": {
    "colab": {
      "provenance": []
    },
    "kernelspec": {
      "display_name": "Python 3",
      "name": "python3"
    },
    "language_info": {
      "name": "python"
    }
  },
  "nbformat": 4,
  "nbformat_minor": 0
}