{
  "cells": [
    {
      "cell_type": "markdown",
      "source": [
        "Given a string S of opening and closing brackets '(' and ')' only. The task is to find an equal point. An equal point is an index such that the number of closing brackets on right from that point must be equal to number of opening brackets before that point.\n",
        "\n",
        "\n",
        "Example 1:\n",
        "\n",
        "Input: str = \"(())))(\"\n",
        "Output: 4\n",
        "Explanation:\n",
        "After index 4, string splits into (())\n",
        "and ))(. Number of opening brackets in the\n",
        "first part is equal to number of closing\n",
        "brackets in the second part.\n",
        "Example 2:\n",
        "Input : str = \"))\"\n",
        "Output: 2\n",
        "Explanation:\n",
        "As after 2nd position i.e. )) and \"empty\"\n",
        "string will be split into these two parts:\n",
        "So, in this number of opening brackets i.e.\n",
        "0 in the first part is equal to number of\n",
        "closing brackets in the second part i.e.\n",
        "also 0.\n",
        "\n",
        "Your Task:  \n",
        "You don't need to read input or print anything. Your task is to complete the function findIndex() which takes the string S as inputs and returns the occurrence of the equal point in the string.\n",
        "\n",
        "\n",
        "Expected Time Complexity: O(N)\n",
        "Expected Auxiliary Space: O(N)\n",
        "\n",
        "\n",
        "Constraints:\n",
        "1 ≤ S ≤ 106\n",
        "String can be unbalanced\n"
      ],
      "metadata": {
        "id": "mKgqj42247O_"
      }
    },
    {
      "cell_type": "code",
      "source": [
        "\n",
        "class Solution:\n",
        "    def findIndex(self,str):\n",
        "        # Your code goes here\n",
        "        c=0\n",
        "        for i in range(len(str)):\n",
        "            if str[i]==')':\n",
        "                c+=1\n",
        "        return c\n",
        ""
      ],
      "metadata": {
        "id": "Zr_2C7f46hX_"
      },
      "execution_count": 3,
      "outputs": []
    }
  ],
  "metadata": {
    "colab": {
      "provenance": []
    },
    "kernelspec": {
      "display_name": "Python 3",
      "name": "python3"
    },
    "language_info": {
      "name": "python"
    }
  },
  "nbformat": 4,
  "nbformat_minor": 0
}