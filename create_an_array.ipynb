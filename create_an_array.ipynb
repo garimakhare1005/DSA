{
  "cells": [
    {
      "cell_type": "markdown",
      "source": [
        "Write a Python program to create an array of 5 integers and display the array items. Access individual elements through indexes.\n",
        "Sample Output:\n",
        "1\n",
        "3\n",
        "5\n",
        "7\n",
        "9\n",
        "Access first three items individually\n",
        "1\n",
        "3\n",
        "5"
      ],
      "metadata": {
        "id": "M6z7foRfYuds"
      }
    },
    {
      "cell_type": "code",
      "source": [
        "my_array = {1,3,5,7,9}\n",
        "print(\"The array is: \",my_array)\n",
        "for item in my_array:\n",
        "  print(item)\n"
      ],
      "metadata": {
        "colab": {
          "base_uri": "https://localhost:8080/"
        },
        "id": "XiC94V_oPuAX",
        "outputId": "f630bfd7-e0ac-4c9a-e9ea-450a92dba870"
      },
      "execution_count": 14,
      "outputs": [
        {
          "output_type": "stream",
          "name": "stdout",
          "text": [
            "The array is:  {1, 3, 5, 7, 9}\n",
            "1\n",
            "3\n",
            "5\n",
            "7\n",
            "9\n"
          ]
        }
      ]
    },
    {
      "cell_type": "code",
      "source": [
        "my_array = [1,3,5,7,9]\n",
        "print(my_array[0])\n",
        "print(my_array[1])\n",
        "print(my_array[2])"
      ],
      "metadata": {
        "colab": {
          "base_uri": "https://localhost:8080/"
        },
        "id": "1fDp8DKDUaFE",
        "outputId": "addc57bf-6060-466f-d801-c39e28d21992"
      },
      "execution_count": 16,
      "outputs": [
        {
          "output_type": "stream",
          "name": "stdout",
          "text": [
            "1\n",
            "3\n",
            "5\n"
          ]
        }
      ]
    }
  ],
  "metadata": {
    "colab": {
      "provenance": []
    },
    "kernelspec": {
      "display_name": "Python 3",
      "name": "python3"
    },
    "language_info": {
      "name": "python"
    }
  },
  "nbformat": 4,
  "nbformat_minor": 0
}