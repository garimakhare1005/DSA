{
  "cells": [
    {
      "cell_type": "code",
      "source": [
        "# Python3 program to find second\n",
        "# largest element in an array\n",
        "\n",
        "# Function to print the\n",
        "# second largest elements\n",
        "\n",
        "\n",
        "def print2largest(arr, arr_size):\n",
        "\n",
        "\tarr.sort(reverse=True)\n",
        "\n",
        "\tfor i in range(1, arr_size):\n",
        "\n",
        "\t\tif (arr[i] != arr[0]):\n",
        "\t\t\tprint(\"The second largest element is\", arr[i])\n",
        "\t\t\treturn\n",
        "\n",
        "\tprint(\"There is no second largest element\")\n",
        "\n",
        "arr = [12, 35, 1, 10, 34, 1]\n",
        "n = len(arr)\n",
        "print2largest(arr, n)\n",
        "\n"
      ],
      "metadata": {
        "id": "2qq_hdqR25Mo"
      },
      "execution_count": null,
      "outputs": []
    }
  ],
  "metadata": {
    "colab": {
      "provenance": []
    },
    "kernelspec": {
      "display_name": "Python 3",
      "name": "python3"
    },
    "language_info": {
      "name": "python"
    }
  },
  "nbformat": 4,
  "nbformat_minor": 0
}