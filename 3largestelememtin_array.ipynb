{
  "cells": [
    {
      "cell_type": "markdown",
      "source": [
        "***Searching in Array***\n",
        "\n",
        "Searching Algorithms are designed to check for an element or retrieve an element from any data structure where it is stored.\n",
        "\n",
        "Find the largest three distinct elements in an array\n",
        "\n",
        "Input: arr[] = {10, 4, 3, 50, 23, 90}\n",
        "\n",
        "Output: 90, 50, 23\n",
        "\n",
        "Method 1:\n",
        "\n",
        "1) Initialize the largest three elements as minus infinite.\n",
        "\n",
        "    first = second = third = -?\n",
        "\n",
        "2) Iterate through all elements of array.\n",
        "\n",
        "   a) Let current array element be x.\n",
        "\n",
        "   b) If (x > first)\n",
        "\n",
        "      {\n",
        "          // This order of assignment is important\n",
        "          third = second\n",
        "          second = first\n",
        "          first = x   \n",
        "       }\n",
        "\n",
        "   c)  Else if (x > second and x != first)\n",
        "\n",
        "      {\n",
        "          third = second\n",
        "          second = x\n",
        "      }\n",
        "   d)  Else if (x > third and x != second)\n",
        "   \n",
        "      {\n",
        "          third = x  \n",
        "      }\n",
        "3) Print first, second and third."
      ],
      "metadata": {
        "id": "44Qgj7bsB96e"
      }
    },
    {
      "cell_type": "code",
      "source": [
        "import sys\n",
        "def print3largest(arr, arr_size):\n",
        "  if (arr_size < 3):\n",
        "    print(\"Invalid input\")\n",
        "    return\n",
        "  third = first = second = -sys.maxsize\n",
        "  for i in range(0, arr_size):\n",
        "    if (arr[i] > first):\n",
        "      third = second\n",
        "      second = first\n",
        "      first = arr[i]\n",
        "    elif (arr[i] > second):\n",
        "      third = second\n",
        "      second = arr [i]\n",
        "    elif (arr[i] > third):\n",
        "      third = arr[i]\n",
        "  print(\"Three largest elements are\", first, second, third)\n",
        "\n",
        "arr = [12, 13, 1, 10, 34, 1]\n",
        "n = len(arr)\n",
        "print3largest(arr, n)\n",
        "\n",
        "\n"
      ],
      "metadata": {
        "id": "MK96lurn4QIW",
        "colab": {
          "base_uri": "https://localhost:8080/"
        },
        "outputId": "262a7d18-3037-4abd-eec1-4860ca6a89a1"
      },
      "execution_count": 2,
      "outputs": [
        {
          "output_type": "stream",
          "name": "stdout",
          "text": [
            "Three largest elements are 34 13 12\n"
          ]
        }
      ]
    }
  ],
  "metadata": {
    "colab": {
      "provenance": []
    },
    "kernelspec": {
      "display_name": "Python 3",
      "name": "python3"
    },
    "language_info": {
      "name": "python"
    }
  },
  "nbformat": 4,
  "nbformat_minor": 0
}